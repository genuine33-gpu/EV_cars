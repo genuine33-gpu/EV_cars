{
 "cells": [
  {
   "cell_type": "code",
   "execution_count": 3,
   "id": "69ba12e2",
   "metadata": {
    "ExecuteTime": {
     "end_time": "2023-12-05T15:22:12.254879Z",
     "start_time": "2023-12-05T15:22:10.549695Z"
    }
   },
   "outputs": [
    {
     "name": "stdout",
     "output_type": "stream",
     "text": [
      "360 rows of data successfully added to the ev_cars table.\n"
     ]
    }
   ],
   "source": [
    "import pandas as pd\n",
    "import psycopg2\n",
    "from sqlalchemy import create_engine\n",
    "\n",
    "\n",
    "# Database info\n",
    "db_host = \"your localhost\"\n",
    "db_name = \"your name\"\n",
    "db_user = \"your user\"\n",
    "db_password = \"yoru password\" \n",
    "file_path = r\"EV_cars.csv\"  # CSV path\n",
    "\n",
    "\n",
    "df = pd.read_csv(file_path)\n",
    "\n",
    "# SQLAlchemy ile PostgreSQL veritabanı bağlantısı oluşturma\n",
    "engine = create_engine(f'postgresql://{db_user}:{db_password}@{db_host}/{db_name}')\n",
    "\n",
    "# Table name and columns name changing\n",
    "table_name = 'ev_cars'\n",
    "df.columns = [col.replace('.', '_') for col in df.columns]  # replace \".\" with \"_\"\n",
    "\n",
    "#PostgreSQL\n",
    "df.to_sql(table_name, engine, if_exists='replace', index=False)\n",
    "\n",
    "print(f\"{len(df)} rows of data successfully added to the {table_name} table.\")\n"
   ]
  }
 ],
 "metadata": {
  "hide_input": false,
  "kernelspec": {
   "display_name": "Python 3 (ipykernel)",
   "language": "python",
   "name": "python3"
  },
  "language_info": {
   "codemirror_mode": {
    "name": "ipython",
    "version": 3
   },
   "file_extension": ".py",
   "mimetype": "text/x-python",
   "name": "python",
   "nbconvert_exporter": "python",
   "pygments_lexer": "ipython3",
   "version": "3.10.9"
  },
  "nbTranslate": {
   "displayLangs": [
    "*"
   ],
   "hotkey": "alt-t",
   "langInMainMenu": true,
   "sourceLang": "en",
   "targetLang": "fr",
   "useGoogleTranslate": true
  },
  "toc": {
   "base_numbering": 1,
   "nav_menu": {},
   "number_sections": true,
   "sideBar": true,
   "skip_h1_title": false,
   "title_cell": "Table of Contents",
   "title_sidebar": "Contents",
   "toc_cell": false,
   "toc_position": {},
   "toc_section_display": true,
   "toc_window_display": false
  },
  "varInspector": {
   "cols": {
    "lenName": 16,
    "lenType": 16,
    "lenVar": 40
   },
   "kernels_config": {
    "python": {
     "delete_cmd_postfix": "",
     "delete_cmd_prefix": "del ",
     "library": "var_list.py",
     "varRefreshCmd": "print(var_dic_list())"
    },
    "r": {
     "delete_cmd_postfix": ") ",
     "delete_cmd_prefix": "rm(",
     "library": "var_list.r",
     "varRefreshCmd": "cat(var_dic_list()) "
    }
   },
   "types_to_exclude": [
    "module",
    "function",
    "builtin_function_or_method",
    "instance",
    "_Feature"
   ],
   "window_display": false
  }
 },
 "nbformat": 4,
 "nbformat_minor": 5
}
